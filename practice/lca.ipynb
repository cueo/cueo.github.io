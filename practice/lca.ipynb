{
 "cells": [
  {
   "cell_type": "markdown",
   "metadata": {},
   "source": [
    "# 236. Lowest Common Ancestor of a Binary Tree\n",
    "\n",
    "- Link: [Leetcode](https://leetcode.com/problems/lowest-common-ancestor-of-a-binary-tree)"
   ]
  },
  {
   "cell_type": "markdown",
   "metadata": {},
   "source": [
    "## Solution 1\n",
    "\n",
    "- Find path to both nodes\n",
    "- Iterate the path to find the lowest common ancestor.\n",
    "    ```python\n",
    "    path_to_p = [3, 5, 2]\n",
    "    path_to_q = [3, 5, 6]\n",
    "    # lca would be 5\n",
    "    ```"
   ]
  },
  {
   "cell_type": "code",
   "execution_count": 3,
   "metadata": {},
   "outputs": [
    {
     "name": "stdout",
     "output_type": "stream",
     "text": [
      "3\n"
     ]
    }
   ],
   "source": [
    "# Definition for a binary tree node.\n",
    "class TreeNode:\n",
    "    def __init__(self, x):\n",
    "        self.val = x\n",
    "        self.left = None\n",
    "        self.right = None\n",
    "\n",
    "    def __repr__(self) -> str:\n",
    "        return str(self.val)\n",
    "\n",
    "def traverse(root, target, path):\n",
    "    if root is None:\n",
    "        return False\n",
    "    if root.val == target:\n",
    "        path.append(root.val)\n",
    "        return True\n",
    "    # old_path = [val for val in path]\n",
    "    if traverse(root.left, target, path):\n",
    "        path.append(root.val)\n",
    "        return True\n",
    "    elif traverse(root.right, target, path):\n",
    "        # path = old_path\n",
    "        path.append(root.val)\n",
    "        return True\n",
    "    return False\n",
    "\n",
    "def lca(root, p, q):\n",
    "    p_trail = []\n",
    "    traverse(root, p, p_trail)\n",
    "    q_trail = []\n",
    "    traverse(root, q, q_trail)\n",
    "    # print(p_trail)\n",
    "    # print(q_trail)\n",
    "    i = 1\n",
    "    ancestor = -1\n",
    "    while i <= len(p_trail) and i <= len(q_trail):\n",
    "        p_index = len(p_trail) - i\n",
    "        q_index = len(q_trail) - i\n",
    "        # print(p_index, q_index)\n",
    "        if p_trail[p_index] != q_trail[q_index]:\n",
    "            return ancestor\n",
    "        ancestor = p_trail[p_index]\n",
    "        i += 1\n",
    "    return ancestor\n",
    "\n",
    "def main():\n",
    "    root = TreeNode(3)\n",
    "\n",
    "    root.left = TreeNode(5)\n",
    "    root.left.left = TreeNode(6)\n",
    "    root.left.right = TreeNode(2)\n",
    "    root.left.right.left = TreeNode(7)\n",
    "    root.left.right.right = TreeNode(4)\n",
    "\n",
    "    root.right = TreeNode(1)\n",
    "    root.right.left = TreeNode(0)\n",
    "    root.right.right = TreeNode(8)\n",
    "\n",
    "    print(lca(root, 7, 8))\n",
    "\n",
    "main()\n"
   ]
  },
  {
   "cell_type": "markdown",
   "metadata": {},
   "source": [
    "## Solution 2\n",
    "\n",
    "- Super straightforward\n",
    "- Find lca in left sub-tree: say `l`\n",
    "- Find lca in right sub-tree: say `r`\n",
    "- If `l is None`, then `r` is the lca and vice-versa\n",
    "- If neither are `None`, then `root` is the lca"
   ]
  },
  {
   "cell_type": "code",
   "execution_count": 4,
   "metadata": {},
   "outputs": [
    {
     "name": "stdout",
     "output_type": "stream",
     "text": [
      "3\n"
     ]
    }
   ],
   "source": [
    "# Definition for a binary tree node.\n",
    "class TreeNode:\n",
    "    def __init__(self, x):\n",
    "        self.val = x\n",
    "        self.left = None\n",
    "        self.right = None\n",
    "\n",
    "    def __repr__(self) -> str:\n",
    "        return str(self.val)\n",
    "\n",
    "def lca(root, p, q):\n",
    "    if root is None:\n",
    "        return None\n",
    "    if root.val == p or root.val == q:\n",
    "        return root\n",
    "    left = lca(root.left, p, q)\n",
    "    right = lca(root.right, p, q)\n",
    "    if left and right:\n",
    "        return root\n",
    "    return left if left else right\n",
    "\n",
    "def main():\n",
    "    root = TreeNode(3)\n",
    "\n",
    "    root.left = TreeNode(5)\n",
    "    root.left.left = TreeNode(6)\n",
    "    root.left.right = TreeNode(2)\n",
    "    root.left.right.left = TreeNode(7)\n",
    "    root.left.right.right = TreeNode(4)\n",
    "\n",
    "    root.right = TreeNode(1)\n",
    "    root.right.left = TreeNode(0)\n",
    "    root.right.right = TreeNode(8)\n",
    "\n",
    "    print(lca(root, 7, 8))\n",
    "\n",
    "\n",
    "main()\n"
   ]
  }
 ],
 "metadata": {
  "kernelspec": {
   "display_name": "venv_3.11",
   "language": "python",
   "name": "python3"
  },
  "language_info": {
   "codemirror_mode": {
    "name": "ipython",
    "version": 3
   },
   "file_extension": ".py",
   "mimetype": "text/x-python",
   "name": "python",
   "nbconvert_exporter": "python",
   "pygments_lexer": "ipython3",
   "version": "3.11.5"
  }
 },
 "nbformat": 4,
 "nbformat_minor": 2
}
