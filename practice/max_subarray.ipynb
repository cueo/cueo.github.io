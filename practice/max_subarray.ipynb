{
 "cells": [
  {
   "cell_type": "markdown",
   "metadata": {},
   "source": [
    "# 53. Maximum Subarray\n",
    "\n",
    "- Link: [Leetcode](https://leetcode.com/problems/maximum-subarray)"
   ]
  },
  {
   "cell_type": "markdown",
   "metadata": {},
   "source": [
    "## Solution 1:\n",
    "\n",
    "- Main idea is to have an array which stores max sum ending at index `i`: `max_sum_at_i = max_sum_at_i + nums[i]`\n",
    "- Return `max(max_sum_at_i)`\n",
    "- Optimization: we don't really need the `max_sum_at_i` array\n",
    "- Just, keep a running sum\n",
    "- If that sum goes below 0, make it 0 (or equal to `nums[i]`)"
   ]
  },
  {
   "cell_type": "code",
   "execution_count": 6,
   "metadata": {},
   "outputs": [
    {
     "name": "stdout",
     "output_type": "stream",
     "text": [
      "6\n",
      "23\n",
      "5\n"
     ]
    }
   ],
   "source": [
    "def max_subarray(nums):\n",
    "    running = 0\n",
    "    max_sum = -99999\n",
    "    for n in nums:\n",
    "        running += n\n",
    "        if max_sum < running:\n",
    "            max_sum = running\n",
    "        if running < 0:\n",
    "            running = 0\n",
    "    return max_sum\n",
    "\n",
    "def main():\n",
    "    nums = [-2,1,-3,4,-1,2,1,-5,4]\n",
    "    print(max_subarray(nums))\n",
    "    nums = [5,4,-1,7,8]\n",
    "    print(max_subarray(nums))\n",
    "    nums = [5, -6, 2]\n",
    "    print(max_subarray(nums))\n",
    "\n",
    "main()\n"
   ]
  },
  {
   "cell_type": "markdown",
   "metadata": {},
   "source": [
    "## Solution 2\n",
    "\n",
    "- There is supposed to be a solution using divide and conquer\n",
    "- Either the subarray is in left half, right half or across\n",
    "- Evaluate across these 3 scenarios (think about merge logic)"
   ]
  },
  {
   "cell_type": "code",
   "execution_count": null,
   "metadata": {},
   "outputs": [],
   "source": [
    "def max_subarray(nums):\n",
    "    # TODO\n",
    "    raise NotImplementedError(\"TODO\")\n",
    "\n",
    "def main():\n",
    "    nums = [-2,1,-3,4,-1,2,1,-5,4]\n",
    "    print(max_subarray(nums))\n",
    "    nums = [5,4,-1,7,8]\n",
    "    print(max_subarray(nums))\n",
    "    nums = [5, -6, 2]\n",
    "    print(max_subarray(nums))\n",
    "\n",
    "main()\n"
   ]
  }
 ],
 "metadata": {
  "kernelspec": {
   "display_name": "venv_3.11",
   "language": "python",
   "name": "python3"
  },
  "language_info": {
   "codemirror_mode": {
    "name": "ipython",
    "version": 3
   },
   "file_extension": ".py",
   "mimetype": "text/x-python",
   "name": "python",
   "nbconvert_exporter": "python",
   "pygments_lexer": "ipython3",
   "version": "3.11.5"
  }
 },
 "nbformat": 4,
 "nbformat_minor": 2
}
