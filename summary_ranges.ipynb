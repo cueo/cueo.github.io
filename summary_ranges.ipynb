{
 "cells": [
  {
   "cell_type": "markdown",
   "metadata": {},
   "source": [
    "# 228. Summary Ranges\n",
    "\n",
    "Link: [Leetcode](https://leetcode.com/problems/summary-ranges)"
   ]
  },
  {
   "cell_type": "markdown",
   "metadata": {},
   "source": [
    "# Solution\n",
    "\n",
    "- Pretty simple"
   ]
  },
  {
   "cell_type": "code",
   "execution_count": 7,
   "metadata": {},
   "outputs": [
    {
     "name": "stdout",
     "output_type": "stream",
     "text": [
      "['0->2', '4->5', '7']\n",
      "['0', '2->4', '6', '8->9']\n"
     ]
    }
   ],
   "source": [
    "def summary_ranges(nums):\n",
    "    if len(nums) == 0:\n",
    "        return []\n",
    "    if len(nums) == 1:\n",
    "        return [str(nums[0])]\n",
    "\n",
    "    result = []\n",
    "    _range = str(nums[0])\n",
    "    prev_num = nums[0]\n",
    "    for i in range(1, len(nums)):\n",
    "        n = nums[i]\n",
    "        if prev_num + 1 == n:\n",
    "            prev_num = n\n",
    "            continue\n",
    "        else:\n",
    "            if _range != str(prev_num):\n",
    "                _range = f'{_range}->{prev_num}'\n",
    "            # print(_range)\n",
    "            result.append(_range)\n",
    "            _range = str(n)\n",
    "        prev_num = n\n",
    "    if _range != str(prev_num):\n",
    "        _range = f'{_range}->{prev_num}'\n",
    "    result.append(_range)\n",
    "    return result\n",
    "\n",
    "def main():\n",
    "    nums = [0,1,2,4,5,7]\n",
    "    print(summary_ranges(nums))\n",
    "    nums = [0,2,3,4,6,8,9]\n",
    "    print(summary_ranges(nums))\n",
    "\n",
    "main()\n"
   ]
  }
 ],
 "metadata": {
  "kernelspec": {
   "display_name": "venv_3.11",
   "language": "python",
   "name": "python3"
  },
  "language_info": {
   "codemirror_mode": {
    "name": "ipython",
    "version": 3
   },
   "file_extension": ".py",
   "mimetype": "text/x-python",
   "name": "python",
   "nbconvert_exporter": "python",
   "pygments_lexer": "ipython3",
   "version": "3.11.5"
  }
 },
 "nbformat": 4,
 "nbformat_minor": 2
}
